{
  "nbformat": 4,
  "nbformat_minor": 0,
  "metadata": {
    "colab": {
      "name": "Disaster_Tweet.ipynb",
      "provenance": []
    },
    "kernelspec": {
      "name": "python3",
      "display_name": "Python 3"
    }
  },
  "cells": [
    {
      "cell_type": "code",
      "metadata": {
        "id": "wIkRd9XS44RO"
      },
      "source": [
        "# import libraries\n",
        "import numpy as np\n",
        "import pandas as pd\n",
        "import matplotlib.pyplot as plt\n",
        "import seaborn as sns\n",
        "from matplotlib.pyplot import xticks\n",
        "from nltk.corpus import stopwords\n",
        "import nltk\n",
        "import re\n",
        "from nltk.stem import WordNetLemmatizer\n",
        "import string\n",
        "from nltk.tokenize import word_tokenize\n",
        "from nltk.util import ngrams\n",
        "from collections import defaultdict\n",
        "from tqdm import tqdm\n",
        "from sklearn.model_selection import train_test_split\n",
        "from keras.utils.vis_utils import plot_model\n",
        "from keras.models import Sequential\n",
        "from keras.layers import Dense\n",
        "from tensorflow.keras.callbacks import ModelCheckpoint, EarlyStopping, Callback\n",
        "import tensorflow as tf\n",
        "from sklearn.metrics import f1_score\n",
        "from wordcloud import WordCloud,STOPWORDS\n",
        "from sklearn.metrics import accuracy_score, classification_report, confusion_matrix\n",
        "from sklearn.feature_extraction.text import TfidfVectorizer\n",
        "from sklearn.pipeline import Pipeline\n",
        "from keras.preprocessing.sequence import pad_sequences\n",
        "from numpy import array\n",
        "from numpy import asarray\n",
        "from numpy import zeros\n",
        "from keras.preprocessing.text import Tokenizer\n",
        "from keras.preprocessing.sequence import pad_sequences\n",
        "from keras.models import Sequential\n",
        "from keras.layers import Dense,Flatten,Embedding,Activation,Dropout\n",
        "from keras.layers import Conv1D,MaxPooling1D,GlobalMaxPooling1D,LSTM\n",
        "from keras.layers import Bidirectional"
      ],
      "execution_count": null,
      "outputs": []
    },
    {
      "cell_type": "code",
      "metadata": {
        "id": "wAJnpxQV5wjD"
      },
      "source": [
        "# load train and test datasets\n",
        "train= pd.read_csv('train.csv')\n",
        "test=pd.read_csv('test.csv')"
      ],
      "execution_count": null,
      "outputs": []
    },
    {
      "cell_type": "code",
      "metadata": {
        "colab": {
          "base_uri": "https://localhost:8080/"
        },
        "id": "CysaVWqr57pz",
        "outputId": "7623d56c-9893-4d59-90a8-08f707919eee"
      },
      "source": [
        "train.shape, test.shape"
      ],
      "execution_count": null,
      "outputs": [
        {
          "output_type": "execute_result",
          "data": {
            "text/plain": [
              "((7613, 5), (3263, 4))"
            ]
          },
          "metadata": {
            "tags": []
          },
          "execution_count": 48
        }
      ]
    },
    {
      "cell_type": "code",
      "metadata": {
        "colab": {
          "base_uri": "https://localhost:8080/",
          "height": 204
        },
        "id": "oJ1gqX_K6CVI",
        "outputId": "b3f4cdb5-a20a-4fa0-e04a-ac9426bb3243"
      },
      "source": [
        "train.head()"
      ],
      "execution_count": null,
      "outputs": [
        {
          "output_type": "execute_result",
          "data": {
            "text/html": [
              "<div>\n",
              "<style scoped>\n",
              "    .dataframe tbody tr th:only-of-type {\n",
              "        vertical-align: middle;\n",
              "    }\n",
              "\n",
              "    .dataframe tbody tr th {\n",
              "        vertical-align: top;\n",
              "    }\n",
              "\n",
              "    .dataframe thead th {\n",
              "        text-align: right;\n",
              "    }\n",
              "</style>\n",
              "<table border=\"1\" class=\"dataframe\">\n",
              "  <thead>\n",
              "    <tr style=\"text-align: right;\">\n",
              "      <th></th>\n",
              "      <th>id</th>\n",
              "      <th>keyword</th>\n",
              "      <th>location</th>\n",
              "      <th>text</th>\n",
              "      <th>target</th>\n",
              "    </tr>\n",
              "  </thead>\n",
              "  <tbody>\n",
              "    <tr>\n",
              "      <th>0</th>\n",
              "      <td>1</td>\n",
              "      <td>NaN</td>\n",
              "      <td>NaN</td>\n",
              "      <td>Our Deeds are the Reason of this #earthquake M...</td>\n",
              "      <td>1</td>\n",
              "    </tr>\n",
              "    <tr>\n",
              "      <th>1</th>\n",
              "      <td>4</td>\n",
              "      <td>NaN</td>\n",
              "      <td>NaN</td>\n",
              "      <td>Forest fire near La Ronge Sask. Canada</td>\n",
              "      <td>1</td>\n",
              "    </tr>\n",
              "    <tr>\n",
              "      <th>2</th>\n",
              "      <td>5</td>\n",
              "      <td>NaN</td>\n",
              "      <td>NaN</td>\n",
              "      <td>All residents asked to 'shelter in place' are ...</td>\n",
              "      <td>1</td>\n",
              "    </tr>\n",
              "    <tr>\n",
              "      <th>3</th>\n",
              "      <td>6</td>\n",
              "      <td>NaN</td>\n",
              "      <td>NaN</td>\n",
              "      <td>13,000 people receive #wildfires evacuation or...</td>\n",
              "      <td>1</td>\n",
              "    </tr>\n",
              "    <tr>\n",
              "      <th>4</th>\n",
              "      <td>7</td>\n",
              "      <td>NaN</td>\n",
              "      <td>NaN</td>\n",
              "      <td>Just got sent this photo from Ruby #Alaska as ...</td>\n",
              "      <td>1</td>\n",
              "    </tr>\n",
              "  </tbody>\n",
              "</table>\n",
              "</div>"
            ],
            "text/plain": [
              "   id keyword  ...                                               text target\n",
              "0   1     NaN  ...  Our Deeds are the Reason of this #earthquake M...      1\n",
              "1   4     NaN  ...             Forest fire near La Ronge Sask. Canada      1\n",
              "2   5     NaN  ...  All residents asked to 'shelter in place' are ...      1\n",
              "3   6     NaN  ...  13,000 people receive #wildfires evacuation or...      1\n",
              "4   7     NaN  ...  Just got sent this photo from Ruby #Alaska as ...      1\n",
              "\n",
              "[5 rows x 5 columns]"
            ]
          },
          "metadata": {
            "tags": []
          },
          "execution_count": 49
        }
      ]
    },
    {
      "cell_type": "code",
      "metadata": {
        "colab": {
          "base_uri": "https://localhost:8080/"
        },
        "id": "1erMpUXl6HUE",
        "outputId": "3ab63be0-d95d-49a4-89ea-cee3d8133784"
      },
      "source": [
        "train.isnull().sum().sort_values(ascending = False)"
      ],
      "execution_count": null,
      "outputs": [
        {
          "output_type": "execute_result",
          "data": {
            "text/plain": [
              "location    2533\n",
              "keyword       61\n",
              "target         0\n",
              "text           0\n",
              "id             0\n",
              "dtype: int64"
            ]
          },
          "metadata": {
            "tags": []
          },
          "execution_count": 50
        }
      ]
    },
    {
      "cell_type": "code",
      "metadata": {
        "colab": {
          "base_uri": "https://localhost:8080/",
          "height": 296
        },
        "id": "QQQUxbKY6NYU",
        "outputId": "168f68e6-9f16-4e38-ef39-783290c1a352"
      },
      "source": [
        "sns.countplot(x=train.target)"
      ],
      "execution_count": null,
      "outputs": [
        {
          "output_type": "execute_result",
          "data": {
            "text/plain": [
              "<matplotlib.axes._subplots.AxesSubplot at 0x7f4bfb070ac8>"
            ]
          },
          "metadata": {
            "tags": []
          },
          "execution_count": 51
        },
        {
          "output_type": "display_data",
          "data": {
            "image/png": "[encoded data removed]",
            "text/plain": [
              "<Figure size 432x288 with 1 Axes>"
            ]
          },
          "metadata": {
            "tags": [],
            "needs_background": "light"
          }
        }
      ]
    },
    {
      "cell_type": "code",
      "metadata": {
        "colab": {
          "base_uri": "https://localhost:8080/"
        },
        "id": "hBR8AOZb6WTn",
        "outputId": "c5581e31-6161-420d-80ec-f54ec1c0bdfa"
      },
      "source": [
        "nltk.download('stopwords')\n",
        "stop = list(stopwords.words(\"english\"))"
      ],
      "execution_count": null,
      "outputs": [
        {
          "output_type": "stream",
          "text": [
            "[nltk_data] Downloading package stopwords to /root/nltk_data...\n",
            "[nltk_data]   Package stopwords is already up-to-date!\n"
          ],
          "name": "stdout"
        }
      ]
    },
    {
      "cell_type": "code",
      "metadata": {
        "id": "02bM7bcs6eNl"
      },
      "source": [
        "# save list of punctuation/special characters in a variable\n",
        "punctuation = list(string.punctuation)"
      ],
      "execution_count": null,
      "outputs": []
    },
    {
      "cell_type": "code",
      "metadata": {
        "id": "hdietPLB6xER"
      },
      "source": [
        "# create an object to convert the words to its lemma form\n",
        "lemma = WordNetLemmatizer()"
      ],
      "execution_count": null,
      "outputs": []
    },
    {
      "cell_type": "code",
      "metadata": {
        "id": "tAlR7UwS6-R-"
      },
      "source": [
        "# lets make a combine list of stopwords and punctuations\n",
        "sw_pun = stop + punctuation"
      ],
      "execution_count": null,
      "outputs": []
    },
    {
      "cell_type": "code",
      "metadata": {
        "id": "yOmKZd9-7Kbz"
      },
      "source": [
        "# function to preprocess the messages\n",
        "def preprocess(tweet):\n",
        "    tweet = re.sub(r\"https?:\\/\\/t.co\\/[A-Za-z0-9]+\", \"\", tweet) # removing urls \n",
        "    tweet = re.sub('[^\\w]',' ',tweet) # remove embedded special characters in words (for example #earthquake)         \n",
        "    tweet = re.sub('[\\d]','',tweet) # this will remove numeric characters\n",
        "    tweet = tweet.lower()\n",
        "    words = tweet.split()  \n",
        "    sentence = \"\"\n",
        "    for word in words:     \n",
        "        if word not in (sw_pun):  # removing stopwords & punctuations                \n",
        "            word = lemma.lemmatize(word,pos = 'v')  # converting to lemma    \n",
        "            if len(word) > 3: # we will consider words with length  greater than 3 only\n",
        "                sentence = sentence + word + ' '             \n",
        "    return(sentence)"
      ],
      "execution_count": null,
      "outputs": []
    },
    {
      "cell_type": "code",
      "metadata": {
        "colab": {
          "base_uri": "https://localhost:8080/"
        },
        "id": "4ajHAbJd7X84",
        "outputId": "83118e9e-c28b-45de-9942-0c64a55c5113"
      },
      "source": [
        "# apply preprocessing functions on the train and test datasets\n",
        "nltk.download('wordnet')\n",
        "train['text'] = train['text'].apply(lambda s : preprocess(s))\n",
        "test ['text'] = test ['text'].apply(lambda s : preprocess(s))"
      ],
      "execution_count": null,
      "outputs": [
        {
          "output_type": "stream",
          "text": [
            "[nltk_data] Downloading package wordnet to /root/nltk_data...\n",
            "[nltk_data]   Package wordnet is already up-to-date!\n"
          ],
          "name": "stdout"
        }
      ]
    },
    {
      "cell_type": "code",
      "metadata": {
        "id": "tztDyOHU7uyG"
      },
      "source": [
        "\n",
        "def remove_emoji(text):\n",
        "    emoji_pattern = re.compile(\"[\"\n",
        "                           u\"\\U0001F600-\\U0001F64F\"  # emoticons\n",
        "                           u\"\\U0001F300-\\U0001F5FF\"  # symbols & pictographs\n",
        "                           u\"\\U0001F680-\\U0001F6FF\"  # transport & map symbols\n",
        "                           u\"\\U0001F1E0-\\U0001F1FF\"  # flags (iOS)\n",
        "                           u\"\\U00002702-\\U000027B0\"\n",
        "                           u\"\\U000024C2-\\U0001F251\"\n",
        "                           \"]+\", flags=re.UNICODE)\n",
        "    return emoji_pattern.sub(r'', text)"
      ],
      "execution_count": null,
      "outputs": []
    },
    {
      "cell_type": "code",
      "metadata": {
        "id": "k592BMBV8Cu0"
      },
      "source": [
        "# applying the function on the train and the test datasets\n",
        "train['text'] = train['text'].apply(lambda s : remove_emoji(s))\n",
        "test ['text'] = test ['text'].apply(lambda s : remove_emoji(s))"
      ],
      "execution_count": null,
      "outputs": []
    },
    {
      "cell_type": "code",
      "metadata": {
        "id": "D7j-Jrjq8Li9"
      },
      "source": [
        "# function to create vocab\n",
        "from collections import Counter\n",
        "def create_vocab(df):\n",
        "    vocab = Counter()\n",
        "    for i in range(df.shape[0]):\n",
        "        vocab.update(df.text[i].split())\n",
        "    return(vocab)"
      ],
      "execution_count": null,
      "outputs": []
    },
    {
      "cell_type": "code",
      "metadata": {
        "colab": {
          "base_uri": "https://localhost:8080/"
        },
        "id": "u4ND-BfT8acl",
        "outputId": "b9a2581a-ce52-45da-b98c-7629a474c9af"
      },
      "source": [
        "# concatenate training and testing datasets\n",
        "master=pd.concat((train,test)).reset_index(drop=True)\n",
        "\n",
        "# call vocabulary creation function on master dataset\n",
        "vocab = create_vocab(master)\n",
        "\n",
        "# lets check the no. of words in the vocabulary\n",
        "len(vocab)"
      ],
      "execution_count": null,
      "outputs": [
        {
          "output_type": "execute_result",
          "data": {
            "text/plain": [
              "16442"
            ]
          },
          "metadata": {
            "tags": []
          },
          "execution_count": 61
        }
      ]
    },
    {
      "cell_type": "code",
      "metadata": {
        "colab": {
          "base_uri": "https://localhost:8080/"
        },
        "id": "uNSAkydL8sSV",
        "outputId": "9259362b-b5ec-40e0-deee-6e96fd57d66a"
      },
      "source": [
        "# lets check the most common 50 words in the vocabulary\n",
        "vocab.most_common(50)"
      ],
      "execution_count": null,
      "outputs": [
        {
          "output_type": "execute_result",
          "data": {
            "text/plain": [
              "[('like', 560),\n",
              " ('fire', 534),\n",
              " ('bomb', 338),\n",
              " ('news', 299),\n",
              " ('people', 286),\n",
              " ('burn', 262),\n",
              " ('time', 254),\n",
              " ('kill', 253),\n",
              " ('make', 248),\n",
              " ('attack', 240),\n",
              " ('flood', 233),\n",
              " ('crash', 232),\n",
              " ('build', 231),\n",
              " ('emergency', 229),\n",
              " ('video', 228),\n",
              " ('come', 223),\n",
              " ('disaster', 220),\n",
              " ('take', 217),\n",
              " ('would', 214),\n",
              " ('body', 209),\n",
              " ('think', 204),\n",
              " ('police', 199),\n",
              " ('look', 193),\n",
              " ('know', 192),\n",
              " ('love', 190),\n",
              " ('watch', 188),\n",
              " ('home', 187),\n",
              " ('storm', 187),\n",
              " ('still', 181),\n",
              " ('train', 177),\n",
              " ('suicide', 177),\n",
              " ('live', 172),\n",
              " ('first', 170),\n",
              " ('collapse', 169),\n",
              " ('back', 164),\n",
              " ('scream', 164),\n",
              " ('california', 159),\n",
              " ('want', 156),\n",
              " ('drown', 152),\n",
              " ('cause', 151),\n",
              " ('need', 150),\n",
              " ('work', 149),\n",
              " ('today', 149),\n",
              " ('world', 148),\n",
              " ('nuclear', 148),\n",
              " ('hiroshima', 147),\n",
              " ('year', 143),\n",
              " ('full', 143),\n",
              " ('service', 142),\n",
              " ('destroy', 138)]"
            ]
          },
          "metadata": {
            "tags": []
          },
          "execution_count": 62
        }
      ]
    },
    {
      "cell_type": "code",
      "metadata": {
        "id": "JuaJqz2Z8-7-"
      },
      "source": [
        "# create the final vocab by considering words with more than one occurence\n",
        "final_vocab = []\n",
        "min_occur = 2\n",
        "for k,v in vocab.items():\n",
        "    if v >= min_occur:\n",
        "        final_vocab.append(k)"
      ],
      "execution_count": null,
      "outputs": []
    },
    {
      "cell_type": "code",
      "metadata": {
        "colab": {
          "base_uri": "https://localhost:8080/"
        },
        "id": "9NtU6lFb9IUS",
        "outputId": "0943952b-5fe2-4601-b99d-0f09aa71e44f"
      },
      "source": [
        "# lets check the no. of the words in the final vocabulary\n",
        "vocab_size = len(final_vocab)\n",
        "vocab_size"
      ],
      "execution_count": null,
      "outputs": [
        {
          "output_type": "execute_result",
          "data": {
            "text/plain": [
              "6025"
            ]
          },
          "metadata": {
            "tags": []
          },
          "execution_count": 64
        }
      ]
    },
    {
      "cell_type": "code",
      "metadata": {
        "id": "NYoK7uDV9W1B"
      },
      "source": [
        "# function to filter the dataset, keep only words which are present in the vocab\n",
        "def filter(tweet):\n",
        "    sentence = \"\"\n",
        "    for word in tweet.split():  \n",
        "        if word in final_vocab:\n",
        "            sentence = sentence + word + ' '\n",
        "    return(sentence)"
      ],
      "execution_count": null,
      "outputs": []
    },
    {
      "cell_type": "code",
      "metadata": {
        "id": "joxxMvqh9eHs"
      },
      "source": [
        "# apply filter function on the train and test datasets\n",
        "train['text'] = train['text'].apply(lambda s : filter(s))\n",
        "test ['text'] = test ['text'].apply(lambda s : filter(s))"
      ],
      "execution_count": null,
      "outputs": []
    },
    {
      "cell_type": "code",
      "metadata": {
        "colab": {
          "base_uri": "https://localhost:8080/"
        },
        "id": "lIpkJP5c9mWn",
        "outputId": "ef3b3dbb-812d-41e8-a222-ea1579fc82e4"
      },
      "source": [
        "# lets take a look at the update training dataset\n",
        "train.text.head()"
      ],
      "execution_count": null,
      "outputs": [
        {
          "output_type": "execute_result",
          "data": {
            "text/plain": [
              "0               deeds reason earthquake allah forgive \n",
              "1                             forest fire near canada \n",
              "2    residents shelter place officer evacuation she...\n",
              "3    people receive wildfires evacuation order cali...\n",
              "4    send photo ruby alaska smoke wildfires pour sc...\n",
              "Name: text, dtype: object"
            ]
          },
          "metadata": {
            "tags": []
          },
          "execution_count": 67
        }
      ]
    },
    {
      "cell_type": "code",
      "metadata": {
        "id": "TIKY2NL19t14"
      },
      "source": [
        "# the different units into which you can break down text (words, characters, or n-grams) are called tokens, \n",
        "# and breaking text into such tokens is called tokenization, this can be achieved using Tokenizer in Keras\n",
        "\n",
        "from keras.preprocessing.text import Tokenizer\n",
        "# fit a tokenizer\n",
        "def create_tokenizer(lines):\n",
        "    # num_words = vocab_size will create a tokenizer,configured to only take into account the vocab_size(6025)\n",
        "    tokenizer = Tokenizer(num_words=vocab_size)\n",
        "    # Build th word index, Turns strings into lists of integer indices\n",
        "    tokenizer.fit_on_texts(lines) \n",
        "    return tokenizer"
      ],
      "execution_count": null,
      "outputs": []
    },
    {
      "cell_type": "code",
      "metadata": {
        "colab": {
          "base_uri": "https://localhost:8080/"
        },
        "id": "CsJ_YrNL9-oA",
        "outputId": "304ac30a-781c-48cc-d2af-b1f437ad265e"
      },
      "source": [
        "# create and apply tokenizer on the training dataset\n",
        "tokenizer = create_tokenizer(train.text)\n",
        "\n",
        "word_index = tokenizer.word_index\n",
        "print('Found %s unique tokens.' % len(word_index))"
      ],
      "execution_count": null,
      "outputs": [
        {
          "output_type": "stream",
          "text": [
            "Found 5792 unique tokens.\n"
          ],
          "name": "stdout"
        }
      ]
    },
    {
      "cell_type": "code",
      "metadata": {
        "id": "mDXYknti-G9I"
      },
      "source": [
        "# converting texts into vectors\n",
        "train_text = tokenizer.texts_to_matrix(train.text, mode = 'freq')"
      ],
      "execution_count": null,
      "outputs": []
    },
    {
      "cell_type": "code",
      "metadata": {
        "id": "43c0xSLy-SDX"
      },
      "source": [
        "# Test train split \n",
        "X_train, X_test, y_train, y_test = train_test_split(train_text, train.target, test_size = 0.2, random_state = 42)"
      ],
      "execution_count": null,
      "outputs": []
    },
    {
      "cell_type": "code",
      "metadata": {
        "id": "7LEGQaZy-ZzH"
      },
      "source": [
        "# function to calculate f1 score for each epoch\n",
        "import keras.backend as K\n",
        "def get_f1(y_true, y_pred): #taken from old keras source code\n",
        "    true_positives = K.sum(K.round(K.clip(y_true * y_pred, 0, 1)))\n",
        "    possible_positives = K.sum(K.round(K.clip(y_true, 0, 1)))\n",
        "    predicted_positives = K.sum(K.round(K.clip(y_pred, 0, 1)))\n",
        "    precision = true_positives / (predicted_positives + K.epsilon())\n",
        "    recall = true_positives / (possible_positives + K.epsilon())\n",
        "    f1_val = 2*(precision*recall)/(precision+recall+K.epsilon())\n",
        "    return f1_val"
      ],
      "execution_count": null,
      "outputs": []
    },
    {
      "cell_type": "code",
      "metadata": {
        "id": "TaVbtDch-fgF"
      },
      "source": [
        "# define the model\n",
        "def define_model(n_words):\n",
        "    # define network\n",
        "    model = Sequential()\n",
        "    model.add(Dense(1024, input_shape=(n_words,), activation='relu'))\n",
        "    model.add(Dropout(0.3))\n",
        "    model.add(Dense(512,activation='relu'))\n",
        "    model.add(Dropout(0.3))\n",
        "    model.add(Dense(256,activation='relu'))\n",
        "    model.add(Dropout(0.3))\n",
        "    model.add(Dense(1, activation='sigmoid'))\n",
        "    \n",
        "    # compile network\n",
        "    model.compile(loss='binary_crossentropy', optimizer='adam', metrics = [get_f1])\n",
        "    \n",
        "    # summarize defined model\n",
        "    model.summary()\n",
        "    return model"
      ],
      "execution_count": null,
      "outputs": []
    },
    {
      "cell_type": "code",
      "metadata": {
        "colab": {
          "base_uri": "https://localhost:8080/"
        },
        "id": "Ww0mVds5-ub3",
        "outputId": "0ac3b42e-f980-4b72-bc8a-367f94b67698"
      },
      "source": [
        "X_train.shape"
      ],
      "execution_count": null,
      "outputs": [
        {
          "output_type": "execute_result",
          "data": {
            "text/plain": [
              "(6090, 6025)"
            ]
          },
          "metadata": {
            "tags": []
          },
          "execution_count": 74
        }
      ]
    },
    {
      "cell_type": "code",
      "metadata": {
        "colab": {
          "base_uri": "https://localhost:8080/"
        },
        "id": "y2GQG2YD-0Uu",
        "outputId": "e77dd55e-624a-4d58-9096-468af8f162e9"
      },
      "source": [
        "# create the model\n",
        "n_words = X_train.shape[1]\n",
        "model = define_model(n_words)"
      ],
      "execution_count": null,
      "outputs": [
        {
          "output_type": "stream",
          "text": [
            "Model: \"sequential_3\"\n",
            "_________________________________________________________________\n",
            "Layer (type)                 Output Shape              Param #   \n",
            "=================================================================\n",
            "dense_5 (Dense)              (None, 1024)              6170624   \n",
            "_________________________________________________________________\n",
            "dropout_3 (Dropout)          (None, 1024)              0         \n",
            "_________________________________________________________________\n",
            "dense_6 (Dense)              (None, 512)               524800    \n",
            "_________________________________________________________________\n",
            "dropout_4 (Dropout)          (None, 512)               0         \n",
            "_________________________________________________________________\n",
            "dense_7 (Dense)              (None, 256)               131328    \n",
            "_________________________________________________________________\n",
            "dropout_5 (Dropout)          (None, 256)               0         \n",
            "_________________________________________________________________\n",
            "dense_8 (Dense)              (None, 1)                 257       \n",
            "=================================================================\n",
            "Total params: 6,827,009\n",
            "Trainable params: 6,827,009\n",
            "Non-trainable params: 0\n",
            "_________________________________________________________________\n"
          ],
          "name": "stdout"
        }
      ]
    },
    {
      "cell_type": "code",
      "metadata": {
        "colab": {
          "base_uri": "https://localhost:8080/"
        },
        "id": "v7hq20Kr-9in",
        "outputId": "a93ddd0f-8361-41ad-af80-82e7471cf39f"
      },
      "source": [
        "#fit network\n",
        "history = model.fit(X_train,y_train,epochs=20,verbose=2,validation_split=0.2)"
      ],
      "execution_count": null,
      "outputs": [
        {
          "output_type": "stream",
          "text": [
            "Epoch 1/20\n",
            "153/153 - 8s - loss: 0.5485 - get_f1: 0.4959 - val_loss: 0.4813 - val_get_f1: 0.7093\n",
            "Epoch 2/20\n",
            "153/153 - 7s - loss: 0.3187 - get_f1: 0.8346 - val_loss: 0.5171 - val_get_f1: 0.6859\n",
            "Epoch 3/20\n",
            "153/153 - 7s - loss: 0.1901 - get_f1: 0.9171 - val_loss: 0.5886 - val_get_f1: 0.7052\n",
            "Epoch 4/20\n",
            "153/153 - 7s - loss: 0.1202 - get_f1: 0.9458 - val_loss: 0.8119 - val_get_f1: 0.7343\n",
            "Epoch 5/20\n",
            "153/153 - 7s - loss: 0.0773 - get_f1: 0.9617 - val_loss: 0.9373 - val_get_f1: 0.7179\n",
            "Epoch 6/20\n",
            "153/153 - 7s - loss: 0.0595 - get_f1: 0.9672 - val_loss: 1.2394 - val_get_f1: 0.7113\n",
            "Epoch 7/20\n",
            "153/153 - 7s - loss: 0.0554 - get_f1: 0.9695 - val_loss: 1.0601 - val_get_f1: 0.7180\n",
            "Epoch 8/20\n",
            "153/153 - 7s - loss: 0.0481 - get_f1: 0.9702 - val_loss: 1.4373 - val_get_f1: 0.7286\n",
            "Epoch 9/20\n",
            "153/153 - 7s - loss: 0.0451 - get_f1: 0.9711 - val_loss: 1.2632 - val_get_f1: 0.7243\n",
            "Epoch 10/20\n",
            "153/153 - 7s - loss: 0.0436 - get_f1: 0.9718 - val_loss: 1.5230 - val_get_f1: 0.7276\n",
            "Epoch 11/20\n",
            "153/153 - 7s - loss: 0.0460 - get_f1: 0.9704 - val_loss: 1.5988 - val_get_f1: 0.7122\n",
            "Epoch 12/20\n",
            "153/153 - 7s - loss: 0.0423 - get_f1: 0.9692 - val_loss: 1.4970 - val_get_f1: 0.7095\n",
            "Epoch 13/20\n",
            "153/153 - 7s - loss: 0.0427 - get_f1: 0.9710 - val_loss: 1.5893 - val_get_f1: 0.6831\n",
            "Epoch 14/20\n",
            "153/153 - 7s - loss: 0.0543 - get_f1: 0.9675 - val_loss: 1.1620 - val_get_f1: 0.7152\n",
            "Epoch 15/20\n",
            "153/153 - 7s - loss: 0.0492 - get_f1: 0.9641 - val_loss: 1.3923 - val_get_f1: 0.7057\n",
            "Epoch 16/20\n",
            "153/153 - 7s - loss: 0.0413 - get_f1: 0.9707 - val_loss: 1.3586 - val_get_f1: 0.7077\n",
            "Epoch 17/20\n",
            "153/153 - 7s - loss: 0.0387 - get_f1: 0.9714 - val_loss: 1.7034 - val_get_f1: 0.7125\n",
            "Epoch 18/20\n",
            "153/153 - 7s - loss: 0.0395 - get_f1: 0.9751 - val_loss: 1.4297 - val_get_f1: 0.7188\n",
            "Epoch 19/20\n",
            "153/153 - 7s - loss: 0.0400 - get_f1: 0.9750 - val_loss: 1.8054 - val_get_f1: 0.7188\n",
            "Epoch 20/20\n",
            "153/153 - 7s - loss: 0.0393 - get_f1: 0.9760 - val_loss: 1.5420 - val_get_f1: 0.7092\n"
          ],
          "name": "stdout"
        }
      ]
    },
    {
      "cell_type": "code",
      "metadata": {
        "colab": {
          "base_uri": "https://localhost:8080/",
          "height": 545
        },
        "id": "EA7Cn09A_EIV",
        "outputId": "a938c06c-b512-442d-dd68-9dd83d1fde53"
      },
      "source": [
        "acc = history.history['get_f1']\n",
        "val_acc = history.history['val_get_f1']\n",
        "\n",
        "loss = history.history['loss']\n",
        "val_loss = history.history['val_loss']\n",
        "\n",
        "epochs = range(1, len(acc) + 1)\n",
        "\n",
        "plt.plot(epochs, acc, 'bo', label='Training acc')\n",
        "plt.plot(epochs, val_acc, 'b', label='Validation acc')\n",
        "plt.title('Training and validation accuracy')\n",
        "plt.legend()\n",
        "\n",
        "plt.figure()\n",
        "plt.plot(epochs, loss, 'bo', label='Training loss')\n",
        "plt.plot(epochs, val_loss, 'b', label='Validation loss')\n",
        "plt.title('Training and validation loss')\n",
        "plt.legend()\n",
        "plt.show()"
      ],
      "execution_count": null,
      "outputs": [
        {
          "output_type": "display_data",
          "data": {
            "image/png": "[encoded data removed]",
            "text/plain": [
              "<Figure size 432x288 with 1 Axes>"
            ]
          },
          "metadata": {
            "tags": [],
            "needs_background": "light"
          }
        },
        {
          "output_type": "display_data",
          "data": {
            "image/png": "[encoded data removed]",
            "text/plain": [
              "<Figure size 432x288 with 1 Axes>"
            ]
          },
          "metadata": {
            "tags": [],
            "needs_background": "light"
          }
        }
      ]
    },
    {
      "cell_type": "code",
      "metadata": {
        "colab": {
          "base_uri": "https://localhost:8080/"
        },
        "id": "WrKat1irAEBF",
        "outputId": "021e3db8-4f80-410f-bef4-d685b9b6c7bf"
      },
      "source": [
        "# prediction on the test dataset\n",
        "#X_test_Set = tokenizer.texts_to_matrix(X_test, mode = 'freq')\n",
        "y_pred = model.predict_classes(X_test)"
      ],
      "execution_count": null,
      "outputs": [
        {
          "output_type": "stream",
          "text": [
            "/usr/local/lib/python3.6/dist-packages/tensorflow/python/keras/engine/sequential.py:450: UserWarning: `model.predict_classes()` is deprecated and will be removed after 2021-01-01. Please use instead:* `np.argmax(model.predict(x), axis=-1)`,   if your model does multi-class classification   (e.g. if it uses a `softmax` last-layer activation).* `(model.predict(x) > 0.5).astype(\"int32\")`,   if your model does binary classification   (e.g. if it uses a `sigmoid` last-layer activation).\n",
            "  warnings.warn('`model.predict_classes()` is deprecated and '\n"
          ],
          "name": "stderr"
        }
      ]
    },
    {
      "cell_type": "code",
      "metadata": {
        "colab": {
          "base_uri": "https://localhost:8080/"
        },
        "id": "EUmwaFxXANpZ",
        "outputId": "d291f525-6f4a-44db-b720-3009c1ccce74"
      },
      "source": [
        "# important metrices\n",
        "print(classification_report(y_test, y_pred))"
      ],
      "execution_count": null,
      "outputs": [
        {
          "output_type": "stream",
          "text": [
            "              precision    recall  f1-score   support\n",
            "\n",
            "           0       0.78      0.77      0.78       874\n",
            "           1       0.70      0.71      0.70       649\n",
            "\n",
            "    accuracy                           0.75      1523\n",
            "   macro avg       0.74      0.74      0.74      1523\n",
            "weighted avg       0.75      0.75      0.75      1523\n",
            "\n"
          ],
          "name": "stdout"
        }
      ]
    },
    {
      "cell_type": "code",
      "metadata": {
        "id": "xr7NMngGk4Vo"
      },
      "source": [
        ""
      ],
      "execution_count": null,
      "outputs": []
    }
  ]
}